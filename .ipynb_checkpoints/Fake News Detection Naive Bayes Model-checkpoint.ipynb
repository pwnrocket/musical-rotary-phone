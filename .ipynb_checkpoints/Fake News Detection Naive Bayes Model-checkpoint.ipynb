{
 "cells": [
  {
   "cell_type": "code",
   "execution_count": 1,
   "metadata": {},
   "outputs": [],
   "source": [
    "import pandas as pd\n",
    "import numpy as np"
   ]
  },
  {
   "cell_type": "code",
   "execution_count": 2,
   "metadata": {},
   "outputs": [],
   "source": [
    "truenews = pd.read_csv('True.csv')\n",
    "fakenews = pd.read_csv('Fake.csv')"
   ]
  },
  {
   "cell_type": "code",
   "execution_count": 3,
   "metadata": {
    "collapsed": false,
    "jupyter": {
     "outputs_hidden": false
    }
   },
   "outputs": [
    {
     "data": {
      "text/html": [
       "<div>\n",
       "<style scoped>\n",
       "    .dataframe tbody tr th:only-of-type {\n",
       "        vertical-align: middle;\n",
       "    }\n",
       "\n",
       "    .dataframe tbody tr th {\n",
       "        vertical-align: top;\n",
       "    }\n",
       "\n",
       "    .dataframe thead th {\n",
       "        text-align: right;\n",
       "    }\n",
       "</style>\n",
       "<table border=\"1\" class=\"dataframe\">\n",
       "  <thead>\n",
       "    <tr style=\"text-align: right;\">\n",
       "      <th></th>\n",
       "      <th>title</th>\n",
       "      <th>text</th>\n",
       "      <th>subject</th>\n",
       "      <th>date</th>\n",
       "    </tr>\n",
       "  </thead>\n",
       "  <tbody>\n",
       "    <tr>\n",
       "      <th>0</th>\n",
       "      <td>Donald Trump Sends Out Embarrassing New Year’...</td>\n",
       "      <td>Donald Trump just couldn t wish all Americans ...</td>\n",
       "      <td>News</td>\n",
       "      <td>December 31, 2017</td>\n",
       "    </tr>\n",
       "    <tr>\n",
       "      <th>1</th>\n",
       "      <td>Drunk Bragging Trump Staffer Started Russian ...</td>\n",
       "      <td>House Intelligence Committee Chairman Devin Nu...</td>\n",
       "      <td>News</td>\n",
       "      <td>December 31, 2017</td>\n",
       "    </tr>\n",
       "    <tr>\n",
       "      <th>2</th>\n",
       "      <td>Sheriff David Clarke Becomes An Internet Joke...</td>\n",
       "      <td>On Friday, it was revealed that former Milwauk...</td>\n",
       "      <td>News</td>\n",
       "      <td>December 30, 2017</td>\n",
       "    </tr>\n",
       "    <tr>\n",
       "      <th>3</th>\n",
       "      <td>Trump Is So Obsessed He Even Has Obama’s Name...</td>\n",
       "      <td>On Christmas day, Donald Trump announced that ...</td>\n",
       "      <td>News</td>\n",
       "      <td>December 29, 2017</td>\n",
       "    </tr>\n",
       "    <tr>\n",
       "      <th>4</th>\n",
       "      <td>Pope Francis Just Called Out Donald Trump Dur...</td>\n",
       "      <td>Pope Francis used his annual Christmas Day mes...</td>\n",
       "      <td>News</td>\n",
       "      <td>December 25, 2017</td>\n",
       "    </tr>\n",
       "  </tbody>\n",
       "</table>\n",
       "</div>"
      ],
      "text/plain": [
       "                                               title  \\\n",
       "0   Donald Trump Sends Out Embarrassing New Year’...   \n",
       "1   Drunk Bragging Trump Staffer Started Russian ...   \n",
       "2   Sheriff David Clarke Becomes An Internet Joke...   \n",
       "3   Trump Is So Obsessed He Even Has Obama’s Name...   \n",
       "4   Pope Francis Just Called Out Donald Trump Dur...   \n",
       "\n",
       "                                                text subject  \\\n",
       "0  Donald Trump just couldn t wish all Americans ...    News   \n",
       "1  House Intelligence Committee Chairman Devin Nu...    News   \n",
       "2  On Friday, it was revealed that former Milwauk...    News   \n",
       "3  On Christmas day, Donald Trump announced that ...    News   \n",
       "4  Pope Francis used his annual Christmas Day mes...    News   \n",
       "\n",
       "                date  \n",
       "0  December 31, 2017  \n",
       "1  December 31, 2017  \n",
       "2  December 30, 2017  \n",
       "3  December 29, 2017  \n",
       "4  December 25, 2017  "
      ]
     },
     "execution_count": 3,
     "metadata": {},
     "output_type": "execute_result"
    }
   ],
   "source": [
    "fakenews.head()"
   ]
  },
  {
   "cell_type": "code",
   "execution_count": 4,
   "metadata": {
    "collapsed": false,
    "jupyter": {
     "outputs_hidden": false
    }
   },
   "outputs": [
    {
     "data": {
      "text/html": [
       "<div>\n",
       "<style scoped>\n",
       "    .dataframe tbody tr th:only-of-type {\n",
       "        vertical-align: middle;\n",
       "    }\n",
       "\n",
       "    .dataframe tbody tr th {\n",
       "        vertical-align: top;\n",
       "    }\n",
       "\n",
       "    .dataframe thead th {\n",
       "        text-align: right;\n",
       "    }\n",
       "</style>\n",
       "<table border=\"1\" class=\"dataframe\">\n",
       "  <thead>\n",
       "    <tr style=\"text-align: right;\">\n",
       "      <th></th>\n",
       "      <th>title</th>\n",
       "      <th>text</th>\n",
       "      <th>subject</th>\n",
       "      <th>date</th>\n",
       "    </tr>\n",
       "  </thead>\n",
       "  <tbody>\n",
       "    <tr>\n",
       "      <th>0</th>\n",
       "      <td>As U.S. budget fight looms, Republicans flip t...</td>\n",
       "      <td>WASHINGTON (Reuters) - The head of a conservat...</td>\n",
       "      <td>politicsNews</td>\n",
       "      <td>December 31, 2017</td>\n",
       "    </tr>\n",
       "    <tr>\n",
       "      <th>1</th>\n",
       "      <td>U.S. military to accept transgender recruits o...</td>\n",
       "      <td>WASHINGTON (Reuters) - Transgender people will...</td>\n",
       "      <td>politicsNews</td>\n",
       "      <td>December 29, 2017</td>\n",
       "    </tr>\n",
       "    <tr>\n",
       "      <th>2</th>\n",
       "      <td>Senior U.S. Republican senator: 'Let Mr. Muell...</td>\n",
       "      <td>WASHINGTON (Reuters) - The special counsel inv...</td>\n",
       "      <td>politicsNews</td>\n",
       "      <td>December 31, 2017</td>\n",
       "    </tr>\n",
       "    <tr>\n",
       "      <th>3</th>\n",
       "      <td>FBI Russia probe helped by Australian diplomat...</td>\n",
       "      <td>WASHINGTON (Reuters) - Trump campaign adviser ...</td>\n",
       "      <td>politicsNews</td>\n",
       "      <td>December 30, 2017</td>\n",
       "    </tr>\n",
       "    <tr>\n",
       "      <th>4</th>\n",
       "      <td>Trump wants Postal Service to charge 'much mor...</td>\n",
       "      <td>SEATTLE/WASHINGTON (Reuters) - President Donal...</td>\n",
       "      <td>politicsNews</td>\n",
       "      <td>December 29, 2017</td>\n",
       "    </tr>\n",
       "  </tbody>\n",
       "</table>\n",
       "</div>"
      ],
      "text/plain": [
       "                                               title  \\\n",
       "0  As U.S. budget fight looms, Republicans flip t...   \n",
       "1  U.S. military to accept transgender recruits o...   \n",
       "2  Senior U.S. Republican senator: 'Let Mr. Muell...   \n",
       "3  FBI Russia probe helped by Australian diplomat...   \n",
       "4  Trump wants Postal Service to charge 'much mor...   \n",
       "\n",
       "                                                text       subject  \\\n",
       "0  WASHINGTON (Reuters) - The head of a conservat...  politicsNews   \n",
       "1  WASHINGTON (Reuters) - Transgender people will...  politicsNews   \n",
       "2  WASHINGTON (Reuters) - The special counsel inv...  politicsNews   \n",
       "3  WASHINGTON (Reuters) - Trump campaign adviser ...  politicsNews   \n",
       "4  SEATTLE/WASHINGTON (Reuters) - President Donal...  politicsNews   \n",
       "\n",
       "                 date  \n",
       "0  December 31, 2017   \n",
       "1  December 29, 2017   \n",
       "2  December 31, 2017   \n",
       "3  December 30, 2017   \n",
       "4  December 29, 2017   "
      ]
     },
     "execution_count": 4,
     "metadata": {},
     "output_type": "execute_result"
    }
   ],
   "source": [
    "truenews.head()"
   ]
  },
  {
   "cell_type": "code",
   "execution_count": 5,
   "metadata": {
    "collapsed": false,
    "jupyter": {
     "outputs_hidden": false
    }
   },
   "outputs": [
    {
     "data": {
      "text/html": [
       "<div>\n",
       "<style scoped>\n",
       "    .dataframe tbody tr th:only-of-type {\n",
       "        vertical-align: middle;\n",
       "    }\n",
       "\n",
       "    .dataframe tbody tr th {\n",
       "        vertical-align: top;\n",
       "    }\n",
       "\n",
       "    .dataframe thead th {\n",
       "        text-align: right;\n",
       "    }\n",
       "</style>\n",
       "<table border=\"1\" class=\"dataframe\">\n",
       "  <thead>\n",
       "    <tr style=\"text-align: right;\">\n",
       "      <th></th>\n",
       "      <th>title</th>\n",
       "      <th>text</th>\n",
       "      <th>subject</th>\n",
       "      <th>date</th>\n",
       "    </tr>\n",
       "  </thead>\n",
       "  <tbody>\n",
       "    <tr>\n",
       "      <th>count</th>\n",
       "      <td>23481</td>\n",
       "      <td>23481</td>\n",
       "      <td>23481</td>\n",
       "      <td>23481</td>\n",
       "    </tr>\n",
       "    <tr>\n",
       "      <th>unique</th>\n",
       "      <td>17903</td>\n",
       "      <td>17455</td>\n",
       "      <td>6</td>\n",
       "      <td>1681</td>\n",
       "    </tr>\n",
       "    <tr>\n",
       "      <th>top</th>\n",
       "      <td>MEDIA IGNORES Time That Bill Clinton FIRED His...</td>\n",
       "      <td></td>\n",
       "      <td>News</td>\n",
       "      <td>May 10, 2017</td>\n",
       "    </tr>\n",
       "    <tr>\n",
       "      <th>freq</th>\n",
       "      <td>6</td>\n",
       "      <td>626</td>\n",
       "      <td>9050</td>\n",
       "      <td>46</td>\n",
       "    </tr>\n",
       "  </tbody>\n",
       "</table>\n",
       "</div>"
      ],
      "text/plain": [
       "                                                    title   text subject  \\\n",
       "count                                               23481  23481   23481   \n",
       "unique                                              17903  17455       6   \n",
       "top     MEDIA IGNORES Time That Bill Clinton FIRED His...           News   \n",
       "freq                                                    6    626    9050   \n",
       "\n",
       "                date  \n",
       "count          23481  \n",
       "unique          1681  \n",
       "top     May 10, 2017  \n",
       "freq              46  "
      ]
     },
     "execution_count": 5,
     "metadata": {},
     "output_type": "execute_result"
    }
   ],
   "source": [
    "fakenews.describe()"
   ]
  },
  {
   "cell_type": "code",
   "execution_count": 6,
   "metadata": {
    "collapsed": false,
    "jupyter": {
     "outputs_hidden": false
    }
   },
   "outputs": [
    {
     "data": {
      "text/html": [
       "<div>\n",
       "<style scoped>\n",
       "    .dataframe tbody tr th:only-of-type {\n",
       "        vertical-align: middle;\n",
       "    }\n",
       "\n",
       "    .dataframe tbody tr th {\n",
       "        vertical-align: top;\n",
       "    }\n",
       "\n",
       "    .dataframe thead th {\n",
       "        text-align: right;\n",
       "    }\n",
       "</style>\n",
       "<table border=\"1\" class=\"dataframe\">\n",
       "  <thead>\n",
       "    <tr style=\"text-align: right;\">\n",
       "      <th></th>\n",
       "      <th>title</th>\n",
       "      <th>text</th>\n",
       "      <th>subject</th>\n",
       "      <th>date</th>\n",
       "    </tr>\n",
       "  </thead>\n",
       "  <tbody>\n",
       "    <tr>\n",
       "      <th>count</th>\n",
       "      <td>21417</td>\n",
       "      <td>21417</td>\n",
       "      <td>21417</td>\n",
       "      <td>21417</td>\n",
       "    </tr>\n",
       "    <tr>\n",
       "      <th>unique</th>\n",
       "      <td>20826</td>\n",
       "      <td>21192</td>\n",
       "      <td>2</td>\n",
       "      <td>716</td>\n",
       "    </tr>\n",
       "    <tr>\n",
       "      <th>top</th>\n",
       "      <td>Factbox: Trump fills top jobs for his administ...</td>\n",
       "      <td>(Reuters) - Highlights for U.S. President Dona...</td>\n",
       "      <td>politicsNews</td>\n",
       "      <td>December 20, 2017</td>\n",
       "    </tr>\n",
       "    <tr>\n",
       "      <th>freq</th>\n",
       "      <td>14</td>\n",
       "      <td>8</td>\n",
       "      <td>11272</td>\n",
       "      <td>182</td>\n",
       "    </tr>\n",
       "  </tbody>\n",
       "</table>\n",
       "</div>"
      ],
      "text/plain": [
       "                                                    title  \\\n",
       "count                                               21417   \n",
       "unique                                              20826   \n",
       "top     Factbox: Trump fills top jobs for his administ...   \n",
       "freq                                                   14   \n",
       "\n",
       "                                                     text       subject  \\\n",
       "count                                               21417         21417   \n",
       "unique                                              21192             2   \n",
       "top     (Reuters) - Highlights for U.S. President Dona...  politicsNews   \n",
       "freq                                                    8         11272   \n",
       "\n",
       "                      date  \n",
       "count                21417  \n",
       "unique                 716  \n",
       "top     December 20, 2017   \n",
       "freq                   182  "
      ]
     },
     "execution_count": 6,
     "metadata": {},
     "output_type": "execute_result"
    }
   ],
   "source": [
    "truenews.describe()"
   ]
  },
  {
   "cell_type": "code",
   "execution_count": 7,
   "metadata": {},
   "outputs": [],
   "source": [
    "truenews['True/Fake']='True'\n",
    "fakenews['True/Fake']='Fake'"
   ]
  },
  {
   "cell_type": "code",
   "execution_count": 8,
   "metadata": {
    "collapsed": false,
    "jupyter": {
     "outputs_hidden": false
    }
   },
   "outputs": [
    {
     "data": {
      "text/html": [
       "<div>\n",
       "<style scoped>\n",
       "    .dataframe tbody tr th:only-of-type {\n",
       "        vertical-align: middle;\n",
       "    }\n",
       "\n",
       "    .dataframe tbody tr th {\n",
       "        vertical-align: top;\n",
       "    }\n",
       "\n",
       "    .dataframe thead th {\n",
       "        text-align: right;\n",
       "    }\n",
       "</style>\n",
       "<table border=\"1\" class=\"dataframe\">\n",
       "  <thead>\n",
       "    <tr style=\"text-align: right;\">\n",
       "      <th></th>\n",
       "      <th>title</th>\n",
       "      <th>text</th>\n",
       "      <th>subject</th>\n",
       "      <th>date</th>\n",
       "      <th>True/Fake</th>\n",
       "      <th>Article</th>\n",
       "    </tr>\n",
       "  </thead>\n",
       "  <tbody>\n",
       "    <tr>\n",
       "      <th>19605</th>\n",
       "      <td>North Korea grants Malaysian prince access to ...</td>\n",
       "      <td>KUALA LUMPUR (Reuters) - North Korea has grant...</td>\n",
       "      <td>worldnews</td>\n",
       "      <td>September 20, 2017</td>\n",
       "      <td>True</td>\n",
       "      <td>North Korea grants Malaysian prince access to ...</td>\n",
       "    </tr>\n",
       "    <tr>\n",
       "      <th>5552</th>\n",
       "      <td>Trump opposes undermining Japan's control of d...</td>\n",
       "      <td>WASHINGTON (Reuters) - President Donald Trump ...</td>\n",
       "      <td>politicsNews</td>\n",
       "      <td>February 9, 2017</td>\n",
       "      <td>True</td>\n",
       "      <td>Trump opposes undermining Japan's control of d...</td>\n",
       "    </tr>\n",
       "    <tr>\n",
       "      <th>14499</th>\n",
       "      <td>WHERE WAS GM SECURITY? VALET PARKING ATTENDANT...</td>\n",
       "      <td>How is it that a major technical facility with...</td>\n",
       "      <td>politics</td>\n",
       "      <td>Feb 10, 2016</td>\n",
       "      <td>Fake</td>\n",
       "      <td>WHERE WAS GM SECURITY? VALET PARKING ATTENDANT...</td>\n",
       "    </tr>\n",
       "    <tr>\n",
       "      <th>17905</th>\n",
       "      <td>Afghan-Pakistan border villages brace for Berl...</td>\n",
       "      <td>CHAMAN/QUETTA, Pakistan (Reuters) - Thousands ...</td>\n",
       "      <td>worldnews</td>\n",
       "      <td>October 10, 2017</td>\n",
       "      <td>True</td>\n",
       "      <td>Afghan-Pakistan border villages brace for Berl...</td>\n",
       "    </tr>\n",
       "    <tr>\n",
       "      <th>4747</th>\n",
       "      <td>President Obama Warns Putin: Don’t Hack Our E...</td>\n",
       "      <td>Recently, intelligence agencies, including the...</td>\n",
       "      <td>News</td>\n",
       "      <td>September 6, 2016</td>\n",
       "      <td>Fake</td>\n",
       "      <td>President Obama Warns Putin: Don’t Hack Our E...</td>\n",
       "    </tr>\n",
       "    <tr>\n",
       "      <th>...</th>\n",
       "      <td>...</td>\n",
       "      <td>...</td>\n",
       "      <td>...</td>\n",
       "      <td>...</td>\n",
       "      <td>...</td>\n",
       "      <td>...</td>\n",
       "    </tr>\n",
       "    <tr>\n",
       "      <th>5320</th>\n",
       "      <td>WATCH: Utah Republican Leaves GOP After Disap...</td>\n",
       "      <td>If this keeps up there won t be enough Republi...</td>\n",
       "      <td>News</td>\n",
       "      <td>July 25, 2016</td>\n",
       "      <td>Fake</td>\n",
       "      <td>WATCH: Utah Republican Leaves GOP After Disap...</td>\n",
       "    </tr>\n",
       "    <tr>\n",
       "      <th>10401</th>\n",
       "      <td>Trudeau, Obama say softwood lumber issue will ...</td>\n",
       "      <td>WASHINGTON (Reuters) - The ongoing U.S.-Canadi...</td>\n",
       "      <td>politicsNews</td>\n",
       "      <td>March 10, 2016</td>\n",
       "      <td>True</td>\n",
       "      <td>Trudeau, Obama say softwood lumber issue will ...</td>\n",
       "    </tr>\n",
       "    <tr>\n",
       "      <th>17243</th>\n",
       "      <td>[Video] BLACK CHAMBER OF COMMERCE PRESIDENT SA...</td>\n",
       "      <td>America s  First Black President  continues to...</td>\n",
       "      <td>Government News</td>\n",
       "      <td>Jun 26, 2015</td>\n",
       "      <td>Fake</td>\n",
       "      <td>[Video] BLACK CHAMBER OF COMMERCE PRESIDENT SA...</td>\n",
       "    </tr>\n",
       "    <tr>\n",
       "      <th>13783</th>\n",
       "      <td>Benghazi Survivor On Hillary Clinton: “I Don’t...</td>\n",
       "      <td>#FeelTheBern of incompetence A survivor of the...</td>\n",
       "      <td>politics</td>\n",
       "      <td>May 31, 2016</td>\n",
       "      <td>Fake</td>\n",
       "      <td>Benghazi Survivor On Hillary Clinton: “I Don’t...</td>\n",
       "    </tr>\n",
       "    <tr>\n",
       "      <th>23145</th>\n",
       "      <td>Good Riddance: James Clapper Resigns as Direct...</td>\n",
       "      <td>21st Century Wire says Like CIA Director John ...</td>\n",
       "      <td>Middle-east</td>\n",
       "      <td>November 19, 2016</td>\n",
       "      <td>Fake</td>\n",
       "      <td>Good Riddance: James Clapper Resigns as Direct...</td>\n",
       "    </tr>\n",
       "  </tbody>\n",
       "</table>\n",
       "<p>44898 rows × 6 columns</p>\n",
       "</div>"
      ],
      "text/plain": [
       "                                                   title  \\\n",
       "19605  North Korea grants Malaysian prince access to ...   \n",
       "5552   Trump opposes undermining Japan's control of d...   \n",
       "14499  WHERE WAS GM SECURITY? VALET PARKING ATTENDANT...   \n",
       "17905  Afghan-Pakistan border villages brace for Berl...   \n",
       "4747    President Obama Warns Putin: Don’t Hack Our E...   \n",
       "...                                                  ...   \n",
       "5320    WATCH: Utah Republican Leaves GOP After Disap...   \n",
       "10401  Trudeau, Obama say softwood lumber issue will ...   \n",
       "17243  [Video] BLACK CHAMBER OF COMMERCE PRESIDENT SA...   \n",
       "13783  Benghazi Survivor On Hillary Clinton: “I Don’t...   \n",
       "23145  Good Riddance: James Clapper Resigns as Direct...   \n",
       "\n",
       "                                                    text          subject  \\\n",
       "19605  KUALA LUMPUR (Reuters) - North Korea has grant...        worldnews   \n",
       "5552   WASHINGTON (Reuters) - President Donald Trump ...     politicsNews   \n",
       "14499  How is it that a major technical facility with...         politics   \n",
       "17905  CHAMAN/QUETTA, Pakistan (Reuters) - Thousands ...        worldnews   \n",
       "4747   Recently, intelligence agencies, including the...             News   \n",
       "...                                                  ...              ...   \n",
       "5320   If this keeps up there won t be enough Republi...             News   \n",
       "10401  WASHINGTON (Reuters) - The ongoing U.S.-Canadi...     politicsNews   \n",
       "17243  America s  First Black President  continues to...  Government News   \n",
       "13783  #FeelTheBern of incompetence A survivor of the...         politics   \n",
       "23145  21st Century Wire says Like CIA Director John ...      Middle-east   \n",
       "\n",
       "                      date True/Fake  \\\n",
       "19605  September 20, 2017       True   \n",
       "5552     February 9, 2017       True   \n",
       "14499         Feb 10, 2016      Fake   \n",
       "17905    October 10, 2017       True   \n",
       "4747     September 6, 2016      Fake   \n",
       "...                    ...       ...   \n",
       "5320         July 25, 2016      Fake   \n",
       "10401      March 10, 2016       True   \n",
       "17243         Jun 26, 2015      Fake   \n",
       "13783         May 31, 2016      Fake   \n",
       "23145    November 19, 2016      Fake   \n",
       "\n",
       "                                                 Article  \n",
       "19605  North Korea grants Malaysian prince access to ...  \n",
       "5552   Trump opposes undermining Japan's control of d...  \n",
       "14499  WHERE WAS GM SECURITY? VALET PARKING ATTENDANT...  \n",
       "17905  Afghan-Pakistan border villages brace for Berl...  \n",
       "4747    President Obama Warns Putin: Don’t Hack Our E...  \n",
       "...                                                  ...  \n",
       "5320    WATCH: Utah Republican Leaves GOP After Disap...  \n",
       "10401  Trudeau, Obama say softwood lumber issue will ...  \n",
       "17243  [Video] BLACK CHAMBER OF COMMERCE PRESIDENT SA...  \n",
       "13783  Benghazi Survivor On Hillary Clinton: “I Don’t...  \n",
       "23145  Good Riddance: James Clapper Resigns as Direct...  \n",
       "\n",
       "[44898 rows x 6 columns]"
      ]
     },
     "execution_count": 8,
     "metadata": {},
     "output_type": "execute_result"
    }
   ],
   "source": [
    "# Combine the 2 DataFrames into a single data frame\n",
    "news = pd.concat([truenews, fakenews])\n",
    "news[\"Article\"] = news[\"title\"] + news[\"text\"]\n",
    "news.sample(frac = 1) #Shuffle 100%\n"
   ]
  },
  {
   "cell_type": "code",
   "execution_count": 9,
   "metadata": {},
   "outputs": [
    {
     "data": {
      "text/plain": [
       "9    Alabama official to certify Senator-elect Jone...\n",
       "9     WATCH: Brand-New Pro-Trump Ad Features So Muc...\n",
       "Name: Article, dtype: object"
      ]
     },
     "execution_count": 9,
     "metadata": {},
     "output_type": "execute_result"
    }
   ],
   "source": [
    "news['Article'][9]"
   ]
  },
  {
   "cell_type": "code",
   "execution_count": 10,
   "metadata": {},
   "outputs": [],
   "source": [
    "#Data Cleaning\n",
    "from nltk.corpus import stopwords\n",
    "import string\n"
   ]
  },
  {
   "cell_type": "code",
   "execution_count": 11,
   "metadata": {},
   "outputs": [],
   "source": [
    "def process_text(s):\n",
    "\n",
    "    # Check string to see if they are a punctuation\n",
    "    nopunc = [char for char in s if char not in string.punctuation]\n",
    "\n",
    "    # Join the characters again to form the string.\n",
    "    nopunc = ''.join(nopunc)\n",
    "    \n",
    "    # Convert string to lowercase and remove stopwords\n",
    "    clean_string = [word for word in nopunc.split() if word.lower() not in stopwords.words('english')]\n",
    "    return clean_string"
   ]
  },
  {
   "cell_type": "code",
   "execution_count": null,
   "metadata": {
    "collapsed": false,
    "jupyter": {
     "outputs_hidden": false
    }
   },
   "outputs": [],
   "source": [
    "# Tokenize the text :Convert the normal text strings in to a list of tokens (words that we actually want)\n",
    "#rerun, takes LOOOONG\n",
    "news['Clean Text'] = news['Article'].apply(process_text)\n"
   ]
  },
  {
   "cell_type": "code",
   "execution_count": 12,
   "metadata": {
    "collapsed": false,
    "jupyter": {
     "outputs_hidden": false
    }
   },
   "outputs": [
    {
     "data": {
      "text/html": [
       "<div>\n",
       "<style scoped>\n",
       "    .dataframe tbody tr th:only-of-type {\n",
       "        vertical-align: middle;\n",
       "    }\n",
       "\n",
       "    .dataframe tbody tr th {\n",
       "        vertical-align: top;\n",
       "    }\n",
       "\n",
       "    .dataframe thead th {\n",
       "        text-align: right;\n",
       "    }\n",
       "</style>\n",
       "<table border=\"1\" class=\"dataframe\">\n",
       "  <thead>\n",
       "    <tr style=\"text-align: right;\">\n",
       "      <th></th>\n",
       "      <th>title</th>\n",
       "      <th>text</th>\n",
       "      <th>subject</th>\n",
       "      <th>date</th>\n",
       "      <th>True/Fake</th>\n",
       "      <th>Article</th>\n",
       "      <th>Clean Text</th>\n",
       "    </tr>\n",
       "  </thead>\n",
       "  <tbody>\n",
       "    <tr>\n",
       "      <th>13654</th>\n",
       "      <td>ANTI-RELIGION ACTIVISTS Target Small Town USA ...</td>\n",
       "      <td>The organization called  Freedom from Religion...</td>\n",
       "      <td>politics</td>\n",
       "      <td>Jun 22, 2016</td>\n",
       "      <td>Fake</td>\n",
       "      <td>ANTI-RELIGION ACTIVISTS Target Small Town USA ...</td>\n",
       "      <td>[ANTIRELIGION, ACTIVISTS, Target, Small, Town,...</td>\n",
       "    </tr>\n",
       "    <tr>\n",
       "      <th>12150</th>\n",
       "      <td>WOW! FORMER AMBASSADOR TO RUSSIA Lists Failure...</td>\n",
       "      <td></td>\n",
       "      <td>politics</td>\n",
       "      <td>Dec 13, 2016</td>\n",
       "      <td>Fake</td>\n",
       "      <td>WOW! FORMER AMBASSADOR TO RUSSIA Lists Failure...</td>\n",
       "      <td>[WOW, FORMER, AMBASSADOR, RUSSIA, Lists, Failu...</td>\n",
       "    </tr>\n",
       "    <tr>\n",
       "      <th>20082</th>\n",
       "      <td>Swedish opposition parties drops vote of no co...</td>\n",
       "      <td>STOCKHOLM (Reuters) - Sweden s center-right op...</td>\n",
       "      <td>worldnews</td>\n",
       "      <td>September 14, 2017</td>\n",
       "      <td>True</td>\n",
       "      <td>Swedish opposition parties drops vote of no co...</td>\n",
       "      <td>[Swedish, opposition, parties, drops, vote, co...</td>\n",
       "    </tr>\n",
       "    <tr>\n",
       "      <th>19385</th>\n",
       "      <td>VACATIONING LAME-DUCK OBAMA Ready To Announce ...</td>\n",
       "      <td>The Obama administration plans to announce on ...</td>\n",
       "      <td>left-news</td>\n",
       "      <td>Dec 29, 2016</td>\n",
       "      <td>Fake</td>\n",
       "      <td>VACATIONING LAME-DUCK OBAMA Ready To Announce ...</td>\n",
       "      <td>[VACATIONING, LAMEDUCK, OBAMA, Ready, Announce...</td>\n",
       "    </tr>\n",
       "    <tr>\n",
       "      <th>9281</th>\n",
       "      <td>WATCH: MEGHAN MCCAIN RIPS Into Joy Behar For H...</td>\n",
       "      <td>The View  co-host, and rabid, liberal, activi...</td>\n",
       "      <td>politics</td>\n",
       "      <td>Dec 4, 2017</td>\n",
       "      <td>Fake</td>\n",
       "      <td>WATCH: MEGHAN MCCAIN RIPS Into Joy Behar For H...</td>\n",
       "      <td>[WATCH, MEGHAN, MCCAIN, RIPS, Joy, Behar, Emba...</td>\n",
       "    </tr>\n",
       "  </tbody>\n",
       "</table>\n",
       "</div>"
      ],
      "text/plain": [
       "                                                   title  \\\n",
       "13654  ANTI-RELIGION ACTIVISTS Target Small Town USA ...   \n",
       "12150  WOW! FORMER AMBASSADOR TO RUSSIA Lists Failure...   \n",
       "20082  Swedish opposition parties drops vote of no co...   \n",
       "19385  VACATIONING LAME-DUCK OBAMA Ready To Announce ...   \n",
       "9281   WATCH: MEGHAN MCCAIN RIPS Into Joy Behar For H...   \n",
       "\n",
       "                                                    text    subject  \\\n",
       "13654  The organization called  Freedom from Religion...   politics   \n",
       "12150                                                      politics   \n",
       "20082  STOCKHOLM (Reuters) - Sweden s center-right op...  worldnews   \n",
       "19385  The Obama administration plans to announce on ...  left-news   \n",
       "9281    The View  co-host, and rabid, liberal, activi...   politics   \n",
       "\n",
       "                      date True/Fake  \\\n",
       "13654         Jun 22, 2016      Fake   \n",
       "12150         Dec 13, 2016      Fake   \n",
       "20082  September 14, 2017       True   \n",
       "19385         Dec 29, 2016      Fake   \n",
       "9281           Dec 4, 2017      Fake   \n",
       "\n",
       "                                                 Article  \\\n",
       "13654  ANTI-RELIGION ACTIVISTS Target Small Town USA ...   \n",
       "12150  WOW! FORMER AMBASSADOR TO RUSSIA Lists Failure...   \n",
       "20082  Swedish opposition parties drops vote of no co...   \n",
       "19385  VACATIONING LAME-DUCK OBAMA Ready To Announce ...   \n",
       "9281   WATCH: MEGHAN MCCAIN RIPS Into Joy Behar For H...   \n",
       "\n",
       "                                              Clean Text  \n",
       "13654  [ANTIRELIGION, ACTIVISTS, Target, Small, Town,...  \n",
       "12150  [WOW, FORMER, AMBASSADOR, RUSSIA, Lists, Failu...  \n",
       "20082  [Swedish, opposition, parties, drops, vote, co...  \n",
       "19385  [VACATIONING, LAMEDUCK, OBAMA, Ready, Announce...  \n",
       "9281   [WATCH, MEGHAN, MCCAIN, RIPS, Joy, Behar, Emba...  "
      ]
     },
     "execution_count": 12,
     "metadata": {},
     "output_type": "execute_result"
    }
   ],
   "source": [
    "news.sample(5)"
   ]
  },
  {
   "cell_type": "code",
   "execution_count": 29,
   "metadata": {},
   "outputs": [],
   "source": [
    "from sklearn.feature_extraction.text import CountVectorizer"
   ]
  },
  {
   "cell_type": "code",
   "execution_count": 30,
   "metadata": {
    "collapsed": false,
    "jupyter": {
     "outputs_hidden": false
    }
   },
   "outputs": [
    {
     "name": "stdout",
     "output_type": "stream",
     "text": [
      "39099\n"
     ]
    }
   ],
   "source": [
    "bow_transformer = CountVectorizer(analyzer=process_text).fit(news['Clean Text'])\n",
    "\n",
    "print(len(bow_transformer.vocabulary_)) #Total vocab words"
   ]
  },
  {
   "cell_type": "code",
   "execution_count": 31,
   "metadata": {},
   "outputs": [],
   "source": [
    "#Bag-of-Words (bow) transform the entire DataFrame of text\n",
    "news_bow = bow_transformer.transform(news['Clean Text'])"
   ]
  },
  {
   "cell_type": "code",
   "execution_count": 32,
   "metadata": {
    "collapsed": false,
    "jupyter": {
     "outputs_hidden": false
    }
   },
   "outputs": [
    {
     "name": "stdout",
     "output_type": "stream",
     "text": [
      "Shape of Sparse Matrix:  (44898, 39099)\n",
      "Amount of Non-Zero occurences:  44898\n"
     ]
    }
   ],
   "source": [
    "print('Shape of Sparse Matrix: ', news_bow.shape)\n",
    "print('Amount of Non-Zero occurences: ', news_bow.nnz)"
   ]
  },
  {
   "cell_type": "code",
   "execution_count": 33,
   "metadata": {
    "collapsed": false,
    "jupyter": {
     "outputs_hidden": false
    }
   },
   "outputs": [
    {
     "name": "stdout",
     "output_type": "stream",
     "text": [
      "sparsity: 0\n"
     ]
    }
   ],
   "source": [
    "sparsity = (100.0 * news_bow.nnz / (news_bow.shape[0] * news_bow.shape[1]))\n",
    "print('sparsity: {}'.format(round(sparsity)))"
   ]
  },
  {
   "cell_type": "code",
   "execution_count": 34,
   "metadata": {},
   "outputs": [],
   "source": [
    "#TF-IDF"
   ]
  },
  {
   "cell_type": "code",
   "execution_count": 35,
   "metadata": {
    "collapsed": false,
    "jupyter": {
     "outputs_hidden": false
    }
   },
   "outputs": [
    {
     "name": "stdout",
     "output_type": "stream",
     "text": [
      "(44898, 39099)\n"
     ]
    }
   ],
   "source": [
    "from sklearn.feature_extraction.text import TfidfTransformer\n",
    "\n",
    "tfidf_transformer = TfidfTransformer().fit(news_bow)\n",
    "news_tfidf = tfidf_transformer.transform(news_bow)\n",
    "print(news_tfidf.shape)"
   ]
  },
  {
   "cell_type": "code",
   "execution_count": 36,
   "metadata": {},
   "outputs": [],
   "source": [
    "#Train Naive Bayes Model\n",
    "from sklearn.naive_bayes import MultinomialNB\n",
    "fakenews_detect_model = MultinomialNB().fit(news_tfidf, news['True/Fake'])"
   ]
  },
  {
   "cell_type": "code",
   "execution_count": 37,
   "metadata": {
    "collapsed": false,
    "jupyter": {
     "outputs_hidden": false
    }
   },
   "outputs": [
    {
     "name": "stdout",
     "output_type": "stream",
     "text": [
      "['True' 'True' 'True' ... 'Fake' 'Fake' 'Fake']\n"
     ]
    }
   ],
   "source": [
    "#Model Evaluation\n",
    "predictions = fakenews_detect_model.predict(news_tfidf)\n",
    "print(predictions)"
   ]
  },
  {
   "cell_type": "code",
   "execution_count": 38,
   "metadata": {
    "collapsed": false,
    "jupyter": {
     "outputs_hidden": false
    }
   },
   "outputs": [
    {
     "name": "stdout",
     "output_type": "stream",
     "text": [
      "              precision    recall  f1-score   support\n",
      "\n",
      "        Fake       1.00      1.00      1.00     23481\n",
      "        True       1.00      1.00      1.00     21417\n",
      "\n",
      "    accuracy                           1.00     44898\n",
      "   macro avg       1.00      1.00      1.00     44898\n",
      "weighted avg       1.00      1.00      1.00     44898\n",
      "\n"
     ]
    }
   ],
   "source": [
    "from sklearn.metrics import classification_report\n",
    "print (classification_report(news['True/Fake'], predictions))"
   ]
  },
  {
   "cell_type": "code",
   "execution_count": 7,
   "metadata": {
    "collapsed": false,
    "jupyter": {
     "outputs_hidden": false
    }
   },
   "outputs": [
    {
     "name": "stdout",
     "output_type": "stream",
     "text": [
      "31428 13470 44898\n"
     ]
    }
   ],
   "source": [
    "from sklearn.model_selection import train_test_split\n",
    "\n",
    "news_train, news_test, text_train, text_test = train_test_split(news['Article'], news['True/Fake'], test_size=0.3)\n",
    "\n",
    "print(len(news_train), len(news_test), len(news_train) + len(news_test))"
   ]
  },
  {
   "cell_type": "code",
   "execution_count": 25,
   "metadata": {
    "collapsed": true,
    "jupyter": {
     "outputs_hidden": true
    }
   },
   "outputs": [],
   "source": [
    "#Create Data Pipeline"
   ]
  },
  {
   "cell_type": "code",
   "execution_count": 25,
   "metadata": {
    "collapsed": false,
    "jupyter": {
     "outputs_hidden": false
    }
   },
   "outputs": [
    {
     "data": {
      "text/plain": [
       "Pipeline(steps=[('bow',\n",
       "                 CountVectorizer(analyzer=<function process_text at 0x7f9875032940>)),\n",
       "                ('tfidf', TfidfTransformer()),\n",
       "                ('classifier', MultinomialNB())])"
      ]
     },
     "execution_count": 25,
     "metadata": {},
     "output_type": "execute_result"
    }
   ],
   "source": [
    "from sklearn.pipeline import Pipeline\n",
    "\n",
    "pipeline = Pipeline([\n",
    "    ('bow', CountVectorizer(analyzer=process_text)),  # strings to token integer counts\n",
    "    ('tfidf', TfidfTransformer()),  # integer counts to weighted TF-IDF scores\n",
    "    ('classifier', MultinomialNB()),  # train on TF-IDF vectors w/ Naive Bayes classifier\n",
    "])\n",
    "pipeline.fit(news_train,text_train)"
   ]
  },
  {
   "cell_type": "code",
   "execution_count": 26,
   "metadata": {},
   "outputs": [],
   "source": [
    "predictions = pipeline.predict(news_test)"
   ]
  },
  {
   "cell_type": "code",
   "execution_count": 9,
   "metadata": {},
   "outputs": [
    {
     "data": {
      "text/plain": [
       "' Drunk Bragging Trump Staffer Started Russian Collusion InvestigationHouse Intelligence Committee Chairman Devin Nunes is going to have a bad day. He s been under the assumption, like many of us, that the Christopher Steele-dossier was what prompted the Russia investigation so he s been lashing out at the Department of Justice and the FBI in order to protect Trump. As it happens, the dossier is not what started the investigation, according to documents obtained by the New York Times.Former Trump campaign adviser George Papadopoulos was drunk in a wine bar when he revealed knowledge of Russian opposition research on Hillary Clinton.On top of that, Papadopoulos wasn t just a covfefe boy for Trump, as his administration has alleged. He had a much larger role, but none so damning as being a drunken fool in a wine bar. Coffee boys  don t help to arrange a New York meeting between Trump and President Abdel Fattah el-Sisi of Egypt two months before the election. It was known before that the former aide set up meetings with world leaders for Trump, but team Trump ran with him being merely a coffee boy.In May 2016, Papadopoulos revealed to Australian diplomat Alexander Downer that Russian officials were shopping around possible dirt on then-Democratic presidential nominee Hillary Clinton. Exactly how much Mr. Papadopoulos said that night at the Kensington Wine Rooms with the Australian, Alexander Downer, is unclear,  the report states.  But two months later, when leaked Democratic emails began appearing online, Australian officials passed the information about Mr. Papadopoulos to their American counterparts, according to four current and former American and foreign officials with direct knowledge of the Australians  role. Papadopoulos pleaded guilty to lying to the F.B.I. and is now a cooperating witness with Special Counsel Robert Mueller s team.This isn t a presidency. It s a badly scripted reality TV show.Photo by Win McNamee/Getty Images.'"
      ]
     },
     "execution_count": 9,
     "metadata": {},
     "output_type": "execute_result"
    }
   ],
   "source": [
    "news_test[1]"
   ]
  },
  {
   "cell_type": "code",
   "execution_count": 27,
   "metadata": {
    "collapsed": false,
    "jupyter": {
     "outputs_hidden": false
    }
   },
   "outputs": [
    {
     "name": "stdout",
     "output_type": "stream",
     "text": [
      "              precision    recall  f1-score   support\n",
      "\n",
      "        Fake       0.96      0.98      0.97      6920\n",
      "        True       0.98      0.95      0.97      6550\n",
      "\n",
      "    accuracy                           0.97     13470\n",
      "   macro avg       0.97      0.97      0.97     13470\n",
      "weighted avg       0.97      0.97      0.97     13470\n",
      "\n"
     ]
    }
   ],
   "source": [
    "print(classification_report(predictions,text_test))"
   ]
  },
  {
   "cell_type": "code",
   "execution_count": 28,
   "metadata": {},
   "outputs": [],
   "source": [
    "import pickle"
   ]
  },
  {
   "cell_type": "code",
   "execution_count": 39,
   "metadata": {},
   "outputs": [
    {
     "ename": "ImportError",
     "evalue": "cannot import name 'joblib' from 'sklearn.externals' (/home/pwnrocket/.local/lib/python3.8/site-packages/sklearn/externals/__init__.py)",
     "output_type": "error",
     "traceback": [
      "\u001b[0;31m---------------------------------------------------------------------------\u001b[0m",
      "\u001b[0;31mImportError\u001b[0m                               Traceback (most recent call last)",
      "\u001b[0;32m<ipython-input-39-fe15a44049b6>\u001b[0m in \u001b[0;36m<module>\u001b[0;34m\u001b[0m\n\u001b[1;32m      1\u001b[0m \u001b[0;32mimport\u001b[0m \u001b[0mjoblib\u001b[0m\u001b[0;34m\u001b[0m\u001b[0;34m\u001b[0m\u001b[0m\n\u001b[0;32m----> 2\u001b[0;31m \u001b[0;32mfrom\u001b[0m \u001b[0msklearn\u001b[0m\u001b[0;34m.\u001b[0m\u001b[0mexternals\u001b[0m \u001b[0;32mimport\u001b[0m \u001b[0mjoblib\u001b[0m\u001b[0;34m\u001b[0m\u001b[0;34m\u001b[0m\u001b[0m\n\u001b[0m",
      "\u001b[0;31mImportError\u001b[0m: cannot import name 'joblib' from 'sklearn.externals' (/home/pwnrocket/.local/lib/python3.8/site-packages/sklearn/externals/__init__.py)"
     ]
    }
   ],
   "source": [
    "import joblib\n",
    "from sklearn.externals import joblib\n"
   ]
  },
  {
   "cell_type": "code",
   "execution_count": 40,
   "metadata": {},
   "outputs": [],
   "source": [
    "s = pickle.dumps(pipeline)"
   ]
  },
  {
   "cell_type": "code",
   "execution_count": 41,
   "metadata": {},
   "outputs": [],
   "source": [
    "mm = pickle.loads(s)"
   ]
  },
  {
   "cell_type": "code",
   "execution_count": 1,
   "metadata": {},
   "outputs": [],
   "source": [
    "from joblib import dump, load"
   ]
  },
  {
   "cell_type": "code",
   "execution_count": 44,
   "metadata": {},
   "outputs": [
    {
     "data": {
      "text/plain": [
       "['fakenews.joblib']"
      ]
     },
     "execution_count": 44,
     "metadata": {},
     "output_type": "execute_result"
    }
   ],
   "source": [
    "dump(pipeline,'fakenews.joblib')"
   ]
  },
  {
   "cell_type": "code",
   "execution_count": null,
   "metadata": {},
   "outputs": [],
   "source": [
    "pip = load('./fakenews.joblib')"
   ]
  },
  {
   "cell_type": "code",
   "execution_count": 25,
   "metadata": {},
   "outputs": [],
   "source": [
    "text = [\"\"\"Study suggest 75% Pakistani adults suffering from stress during COVID-19 pandemic KARACHI: Three out of four Pakistani adults are suffering from moderate or high levels of stress during the ongoing COVID-19 pandemic, showed preliminary findings of a mental health study conducted by the Agha Khan University.The study also found that nearly one in three are experiencing moderate or severe anxiety. The research was conducted by the university's department of community health sciences (CHS) by carrying out an online survey of 373 respondents between April and May. The study’s first phase used validated screening tools to determine if people had generalised anxiety disorder.  More than 90% of the participants were from Sindh and Punjab in the research.\"Respondents ranked the top three causes of anxiety and stress as being fear of contracting the virus, financial losses during the pandemic and losing a loved one to COVID-19,\" said the press release. The study found that survey participants were much more concerned about their loved ones catching the disease with nearly eight out of ten respondents, or 76%, feeling a lot of fear or extreme fear of those close to them falling ill. In contrast, four of ten respondents, or 36%, reported a lot of fear or extreme fear about catching the virus themselves. “The pandemic has exposed our social and economic vulnerabilities and created widespread uncertainty in society,” said Professor Sameen Siddiqi, the CHS department chair. “If left unchecked, stress associated with COVID-19 can lead to distress and the distress can lead to disease.” Those already suffering from anxiety and stress are especially vulnerable to advanced illnesses such as depression and other mental health disorders, added Maryam Lakhdir, the study’s principal investigator and a senior instructor in the CHS department. “The findings suggest that we are at risk of a mental health crisis during a pandemic. Policymakers must prioritise psychosocial interventions to limit the chances of long-lasting scars on our mental health,” Lakhdir said.\"\"\"]"
   ]
  },
  {
   "cell_type": "code",
   "execution_count": 26,
   "metadata": {},
   "outputs": [
    {
     "data": {
      "text/plain": [
       "array(['True'], dtype='<U4')"
      ]
     },
     "execution_count": 26,
     "metadata": {},
     "output_type": "execute_result"
    }
   ],
   "source": [
    "pip.predict(text)"
   ]
  },
  {
   "cell_type": "code",
   "execution_count": 29,
   "metadata": {},
   "outputs": [],
   "source": [
    "text1 = [\"\"\"IHC reserves verdict on PUBG suspension The Islamabad High Court reserved its verdict on the petition pertaining to the ban on PlayerUnknown's Battlegrounds (PUBG) on Tuesday after completion of arguments by parties.The case was heard before Justice Amir Farooq.The Pakistan Telecommunication Authority (PTA) objected to the petition filed by PUBG's controlling company in Pakistan.\"Under which law did you ban the game,\" inquired Justice Farooq of the PTA.PTA's lawyer contended that the game appears to contain anti-Islamic and immoral material which led to the ban. The court asked where in the minutes of the meeting was such material mentioned.The court asked PTA if it would shut down everything if the CPO were to ask it to. \"Which complaint mentioned that the game is against Islamic teachings,\" asked the court.At this, the PTA lawyer stated that the situation had unfolded such that the game had to be suspended.You have to take decisions according to the law not the situation, remarked Justice Farooq. There are other games as well which are perhaps even more violent, he observed.On July 1, the PTA suspended PUBG after \"receiving complaints from different segments of society\".\"PTA has received numerous complaints against PUBG wherein it is stated that the game is addictive, waste of time and poses serious negative impact on physical and psychological health of the children,\" a statement by the authority said.The court had sought records pertaining to the ban from the authority at the previous hearing.\"\"\"]"
   ]
  },
  {
   "cell_type": "code",
   "execution_count": 30,
   "metadata": {},
   "outputs": [
    {
     "data": {
      "text/plain": [
       "array(['Fake'], dtype='<U4')"
      ]
     },
     "execution_count": 30,
     "metadata": {},
     "output_type": "execute_result"
    }
   ],
   "source": [
    "pip.predict(text)"
   ]
  },
  {
   "cell_type": "code",
   "execution_count": 31,
   "metadata": {},
   "outputs": [],
   "source": [
    "text2 = [\"\"\"FM Qureshi discharged from hospital after 10 days following Covid-19 treatment\n",
    " Foreign Minister Shah Mahmood Qureshi on Tuesday said that he has been shifted home after being treated for the coronavirus and undergoing plasma therapy at Rawalpindi's Military Hospital (MH), but is yet to test negative.Qureshi had tested positive for the virus on July 3 and quarantined himself after developing a slight fever. In a tweet, he had said that he felt \"strong and energetic\" and would continue his duties from home. However, he was shifted to hospital the next day, July 4, according to his spokesperson.In a statement on Tuesday, Qureshi said he had postponed all his meetings and conferences as a precautionary measure after experiencing initial symptoms of Covid-19.\"My condition started to gradually stabilise due to being tested immediately and the starting of the treatment soon after,\" he said, revealing that he was also injected plasma from recovered patients.Examine: Plasma therapy for Covid-19: The hopes and the hypeThe minister said he has now been shifted home and is feeling \"a lot better\". \"My test samples have been taken again which Inshallah will return negative,\" he added.He paid tribute to all the doctors and paramedical staff working on the frontlines of the battle against the coronavirus. He also thanked the medical staff at Military Hospital Rawalpindi for taking thorough care of him, as well as the well-wishers who prayed for his recovery.Qureshi urged the citizens to \"not panic\", take precautions and contact medical experts without delay if they experience any symptoms.Last Thursday, the foreign minister had dispelled rumours about his health after his Wikipedia profile was edited to falsely reflect that he had 'died' on July 4, saying \"there was no truth to them\" and that he was \"doing well\".In a statement, Qureshi had said that \"mischievous\" elements had edited his profile on the site. \"Many complications were created, and it caused distress to my loved ones and family members,\" he said, adding that he also started receiving phone calls.Several politicians, including members of the ruling PTI, have been diagnosed with the virus over the past few months as it continues to spread in Pakistan. More than 254,000 people have tested positive across the country since the first case emerged on February 26 while more than 5,350 deaths have been reported.\"\"\"]"
   ]
  },
  {
   "cell_type": "code",
   "execution_count": 32,
   "metadata": {},
   "outputs": [
    {
     "data": {
      "text/plain": [
       "array(['True'], dtype='<U4')"
      ]
     },
     "execution_count": 32,
     "metadata": {},
     "output_type": "execute_result"
    }
   ],
   "source": [
    "pip.predict(text2)"
   ]
  },
  {
   "cell_type": "code",
   "execution_count": null,
   "metadata": {},
   "outputs": [],
   "source": []
  }
 ],
 "metadata": {
  "anaconda-cloud": {},
  "kernelspec": {
   "display_name": "Python 3",
   "language": "python",
   "name": "python3"
  },
  "language_info": {
   "codemirror_mode": {
    "name": "ipython",
    "version": 3
   },
   "file_extension": ".py",
   "mimetype": "text/x-python",
   "name": "python",
   "nbconvert_exporter": "python",
   "pygments_lexer": "ipython3",
   "version": "3.8.3"
  }
 },
 "nbformat": 4,
 "nbformat_minor": 4
}
